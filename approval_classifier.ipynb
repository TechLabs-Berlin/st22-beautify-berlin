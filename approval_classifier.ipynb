{
 "cells": [
  {
   "cell_type": "markdown",
   "metadata": {},
   "source": [
    "# Machine learning algorithm"
   ]
  },
  {
   "cell_type": "code",
   "execution_count": 131,
   "metadata": {},
   "outputs": [],
   "source": [
    "# IMPORT LIBRARIES\n",
    "import numpy as np\n",
    "import pandas as pd\n",
    "import matplotlib.pyplot as plt\n",
    "from sklearn.model_selection import train_test_split\n",
    "from sklearn.tree import DecisionTreeClassifier\n",
    "from sklearn.neighbors import KNeighborsClassifier\n",
    "from statistics import stdev"
   ]
  },
  {
   "cell_type": "code",
   "execution_count": 11,
   "metadata": {},
   "outputs": [
    {
     "data": {
      "text/html": [
       "<div>\n",
       "<style scoped>\n",
       "    .dataframe tbody tr th:only-of-type {\n",
       "        vertical-align: middle;\n",
       "    }\n",
       "\n",
       "    .dataframe tbody tr th {\n",
       "        vertical-align: top;\n",
       "    }\n",
       "\n",
       "    .dataframe thead th {\n",
       "        text-align: right;\n",
       "    }\n",
       "</style>\n",
       "<table border=\"1\" class=\"dataframe\">\n",
       "  <thead>\n",
       "    <tr style=\"text-align: right;\">\n",
       "      <th></th>\n",
       "      <th>Artwork-Id</th>\n",
       "      <th>type</th>\n",
       "      <th>district</th>\n",
       "      <th>environment</th>\n",
       "      <th>countArtists</th>\n",
       "      <th>experience</th>\n",
       "      <th>replaced</th>\n",
       "      <th>content</th>\n",
       "      <th>userRating</th>\n",
       "      <th>approval</th>\n",
       "    </tr>\n",
       "  </thead>\n",
       "  <tbody>\n",
       "    <tr>\n",
       "      <th>0</th>\n",
       "      <td>32048698</td>\n",
       "      <td>5</td>\n",
       "      <td>3</td>\n",
       "      <td>3</td>\n",
       "      <td>2</td>\n",
       "      <td>1</td>\n",
       "      <td>7</td>\n",
       "      <td>2</td>\n",
       "      <td>4</td>\n",
       "      <td>1</td>\n",
       "    </tr>\n",
       "    <tr>\n",
       "      <th>1</th>\n",
       "      <td>39800694</td>\n",
       "      <td>5</td>\n",
       "      <td>3</td>\n",
       "      <td>3</td>\n",
       "      <td>3</td>\n",
       "      <td>2</td>\n",
       "      <td>4</td>\n",
       "      <td>1</td>\n",
       "      <td>2</td>\n",
       "      <td>0</td>\n",
       "    </tr>\n",
       "    <tr>\n",
       "      <th>2</th>\n",
       "      <td>80318972</td>\n",
       "      <td>4</td>\n",
       "      <td>3</td>\n",
       "      <td>2</td>\n",
       "      <td>3</td>\n",
       "      <td>2</td>\n",
       "      <td>8</td>\n",
       "      <td>2</td>\n",
       "      <td>4</td>\n",
       "      <td>0</td>\n",
       "    </tr>\n",
       "    <tr>\n",
       "      <th>3</th>\n",
       "      <td>74478002</td>\n",
       "      <td>4</td>\n",
       "      <td>3</td>\n",
       "      <td>3</td>\n",
       "      <td>4</td>\n",
       "      <td>1</td>\n",
       "      <td>3</td>\n",
       "      <td>2</td>\n",
       "      <td>4</td>\n",
       "      <td>0</td>\n",
       "    </tr>\n",
       "    <tr>\n",
       "      <th>4</th>\n",
       "      <td>71449602</td>\n",
       "      <td>5</td>\n",
       "      <td>2</td>\n",
       "      <td>4</td>\n",
       "      <td>3</td>\n",
       "      <td>2</td>\n",
       "      <td>4</td>\n",
       "      <td>2</td>\n",
       "      <td>0</td>\n",
       "      <td>0</td>\n",
       "    </tr>\n",
       "    <tr>\n",
       "      <th>...</th>\n",
       "      <td>...</td>\n",
       "      <td>...</td>\n",
       "      <td>...</td>\n",
       "      <td>...</td>\n",
       "      <td>...</td>\n",
       "      <td>...</td>\n",
       "      <td>...</td>\n",
       "      <td>...</td>\n",
       "      <td>...</td>\n",
       "      <td>...</td>\n",
       "    </tr>\n",
       "    <tr>\n",
       "      <th>745</th>\n",
       "      <td>68311402</td>\n",
       "      <td>5</td>\n",
       "      <td>4</td>\n",
       "      <td>4</td>\n",
       "      <td>2</td>\n",
       "      <td>1</td>\n",
       "      <td>6</td>\n",
       "      <td>1</td>\n",
       "      <td>3</td>\n",
       "      <td>1</td>\n",
       "    </tr>\n",
       "    <tr>\n",
       "      <th>746</th>\n",
       "      <td>22390811</td>\n",
       "      <td>5</td>\n",
       "      <td>1</td>\n",
       "      <td>3</td>\n",
       "      <td>2</td>\n",
       "      <td>2</td>\n",
       "      <td>6</td>\n",
       "      <td>2</td>\n",
       "      <td>5</td>\n",
       "      <td>1</td>\n",
       "    </tr>\n",
       "    <tr>\n",
       "      <th>747</th>\n",
       "      <td>19230282</td>\n",
       "      <td>5</td>\n",
       "      <td>5</td>\n",
       "      <td>3</td>\n",
       "      <td>1</td>\n",
       "      <td>3</td>\n",
       "      <td>6</td>\n",
       "      <td>2</td>\n",
       "      <td>5</td>\n",
       "      <td>1</td>\n",
       "    </tr>\n",
       "    <tr>\n",
       "      <th>748</th>\n",
       "      <td>29644044</td>\n",
       "      <td>5</td>\n",
       "      <td>3</td>\n",
       "      <td>4</td>\n",
       "      <td>2</td>\n",
       "      <td>3</td>\n",
       "      <td>8</td>\n",
       "      <td>2</td>\n",
       "      <td>3</td>\n",
       "      <td>1</td>\n",
       "    </tr>\n",
       "    <tr>\n",
       "      <th>749</th>\n",
       "      <td>55964034</td>\n",
       "      <td>4</td>\n",
       "      <td>2</td>\n",
       "      <td>3</td>\n",
       "      <td>1</td>\n",
       "      <td>1</td>\n",
       "      <td>4</td>\n",
       "      <td>2</td>\n",
       "      <td>0</td>\n",
       "      <td>0</td>\n",
       "    </tr>\n",
       "  </tbody>\n",
       "</table>\n",
       "<p>750 rows × 10 columns</p>\n",
       "</div>"
      ],
      "text/plain": [
       "     Artwork-Id  type  district  environment  countArtists  experience  \\\n",
       "0      32048698     5         3            3             2           1   \n",
       "1      39800694     5         3            3             3           2   \n",
       "2      80318972     4         3            2             3           2   \n",
       "3      74478002     4         3            3             4           1   \n",
       "4      71449602     5         2            4             3           2   \n",
       "..          ...   ...       ...          ...           ...         ...   \n",
       "745    68311402     5         4            4             2           1   \n",
       "746    22390811     5         1            3             2           2   \n",
       "747    19230282     5         5            3             1           3   \n",
       "748    29644044     5         3            4             2           3   \n",
       "749    55964034     4         2            3             1           1   \n",
       "\n",
       "     replaced  content  userRating  approval  \n",
       "0           7        2           4         1  \n",
       "1           4        1           2         0  \n",
       "2           8        2           4         0  \n",
       "3           3        2           4         0  \n",
       "4           4        2           0         0  \n",
       "..        ...      ...         ...       ...  \n",
       "745         6        1           3         1  \n",
       "746         6        2           5         1  \n",
       "747         6        2           5         1  \n",
       "748         8        2           3         1  \n",
       "749         4        2           0         0  \n",
       "\n",
       "[750 rows x 10 columns]"
      ]
     },
     "execution_count": 11,
     "metadata": {},
     "output_type": "execute_result"
    }
   ],
   "source": [
    "# LOAD THE DATA\n",
    "# use pandas to read data as table\n",
    "# index is already specified in *.txt file -> use first column as index column\n",
    "artworks = pd.read_table(\"beautified_boxes_numeric.txt\", index_col=0)\n",
    "artworks"
   ]
  },
  {
   "cell_type": "code",
   "execution_count": 18,
   "metadata": {},
   "outputs": [],
   "source": [
    "# SET FEATURES AND LABEL\n",
    "\n",
    "# set features and label\n",
    "# features (X): \"type\", \"district\", \"environment\", \"countArtists\", \"experience\", \"replaced\", \"content\", \"userRating\"\n",
    "# label (y): \"approval\"\n",
    "# do not use for classification: \"Artwork_Id\"\n",
    "X = artworks[[\"type\", \"district\", \"environment\", \"countArtists\", \"experience\", \"replaced\", \"content\", \"userRating\"]]\n",
    "y = artworks[\"approval\"]\n"
   ]
  },
  {
   "cell_type": "code",
   "execution_count": 144,
   "metadata": {},
   "outputs": [],
   "source": [
    "# FIND OUT OPTIMUM K FOR CLASSIFIER - CALCULATIONS\n",
    "\n",
    "# do 10000 runs, test values of the accuracy of the classifier for k from 1 to 20\n",
    "n_range = range(1, 10001)\n",
    "k_range = range(1,20)\n",
    "\n",
    "# in each run:\n",
    "for n in n_range:\n",
    "    # do the split\n",
    "    X_train, X_test, y_train, y_test = train_test_split(X, y)\n",
    "    # make empty list to contain temporary accuracy results of the run\n",
    "    scores = []\n",
    "\n",
    "    # test the accuracy\n",
    "    for k in k_range:\n",
    "        # make a classifier\n",
    "        knn = KNeighborsClassifier(n_neighbors = k)\n",
    "        # train the classifier\n",
    "        knn.fit(X_train, y_train)\n",
    "        # calculate scores and append to the temporary list\n",
    "        scores.append(knn.score(X_test, y_test))\n",
    "\n",
    "    # from temporary list, get best accuracy\n",
    "    b_acc = max(scores)\n",
    "    # for the best accuracy, get corresponding value of k (index plus one, since index begins with 0)\n",
    "    b_k = scores.index(b_acc) + 1\n",
    "\n",
    "    # add the result to the data frame \"best_accuracy\" containing all of the results after the loop\n",
    "    data2 = [[b_acc, b_k]]\n",
    "    append_this = pd.DataFrame(data2, columns=[\"best_accuracy\", \"best_k\"])\n",
    "    # first loop: initiate \"best_accuracy\" to contain complete data. first case becomes first row of complete data frame\n",
    "    if n == 1:\n",
    "        best_accuracy = append_this\n",
    "        # from second loop on: each case becomes a new row of the complete data frame\n",
    "    else:\n",
    "        best_accuracy = pd.concat([best_accuracy, append_this])"
   ]
  },
  {
   "cell_type": "code",
   "execution_count": 145,
   "metadata": {},
   "outputs": [
    {
     "name": "stdout",
     "output_type": "stream",
     "text": [
      "k = 5 yields the highest accuracy 1297 after evaluating 10000 train_test splits. This is more often than any other value.\n"
     ]
    }
   ],
   "source": [
    "# FIND OUT WHICH K YIELDS THE HIGHEST ACCURACY MOST OF THE TIMES\n",
    "\n",
    "most_times = pd.DataFrame(best_accuracy[\"best_k\"].value_counts())\n",
    "mostK = most_times.iloc[0].name\n",
    "timesK = most_times.iloc[0, 0]\n",
    "print(\"k =\", mostK, \"yields the highest accuracy\", timesK, \"after evaluating 10000 train_test splits. This is more often than any other value.\")"
   ]
  },
  {
   "cell_type": "code",
   "execution_count": 146,
   "metadata": {},
   "outputs": [
    {
     "name": "stdout",
     "output_type": "stream",
     "text": [
      "k = 14 yields the highest average accuracy of 0.8147163120567396 after evaluating 10000 train_test splits.\n"
     ]
    },
    {
     "data": {
      "image/png": "[encoded data removed]",
      "text/plain": [
       "<Figure size 432x288 with 1 Axes>"
      ]
     },
     "metadata": {
      "needs_background": "light"
     },
     "output_type": "display_data"
    }
   ],
   "source": [
    "# FIND OUT HIGHEST AVERAGE K\n",
    "\n",
    "grouped = best_accuracy.groupby(\"best_k\")\n",
    "accuracies = []\n",
    "\n",
    "for name,group in grouped:\n",
    "    accuracies.append(group[\"best_accuracy\"].mean())\n",
    "    if group[\"best_accuracy\"].mean() == max(accuracies):\n",
    "        averageK = name\n",
    "        averageAcc = group[\"best_accuracy\"].mean()\n",
    "\n",
    "print(\"k =\", averageK, \"yields the highest average accuracy of\", averageAcc, \"after evaluating 10000 train_test splits.\")\n",
    "\n",
    "plt.figure()\n",
    "plt.xlabel('k')\n",
    "plt.ylabel('accuracy')\n",
    "plt.scatter(k_range, accuracies)\n",
    "plt.xticks([0,5,10,15,20]);"
   ]
  },
  {
   "cell_type": "code",
   "execution_count": null,
   "metadata": {},
   "outputs": [],
   "source": [
    "# it would be nice to add some error bars to see how much values vary"
   ]
  },
  {
   "cell_type": "code",
   "execution_count": 128,
   "metadata": {},
   "outputs": [
    {
     "name": "stdout",
     "output_type": "stream",
     "text": [
      "based on previous results, k was set to 19\n"
     ]
    },
    {
     "data": {
      "text/plain": [
       "KNeighborsClassifier(n_neighbors=19)"
      ]
     },
     "execution_count": 128,
     "metadata": {},
     "output_type": "execute_result"
    }
   ],
   "source": [
    "# TRAIN THE CLASSIFIER\n",
    "print(\"based on previous results, k was set to\", averageK)\n",
    "\n",
    "# set train-test-split\n",
    "X_train, X_test, y_train, y_test = train_test_split(X, y)\n",
    "\n",
    "# train the classifier\n",
    "knn = KNeighborsClassifier(n_neighbors = averageK)\n",
    "knn.fit(X_train, y_train)"
   ]
  },
  {
   "cell_type": "code",
   "execution_count": 129,
   "metadata": {},
   "outputs": [
    {
     "data": {
      "text/plain": [
       "0.7978723404255319"
      ]
     },
     "execution_count": 129,
     "metadata": {},
     "output_type": "execute_result"
    }
   ],
   "source": [
    "# EVALUATE ACCURACY OF THE CLASSIFIER\n",
    "# obligatory: calculate score over test set\n",
    "# optional: do cross validation\n",
    "# optional: evaluate proportion of the train/test split proportion\n",
    "knn.score(X_test, y_test)"
   ]
  },
  {
   "cell_type": "code",
   "execution_count": 143,
   "metadata": {},
   "outputs": [
    {
     "name": "stdout",
     "output_type": "stream",
     "text": [
      "maximum accuracy is best_accuracy    0.882979\n",
      "dtype: float64\n",
      "average accuracy is best_accuracy    0.787518\n",
      "dtype: float64\n"
     ]
    }
   ],
   "source": [
    "# FIND OUT OPTIMUM K FOR CLASSIFIER - CALCULATIONS\n",
    "\n",
    "# do 10 runs, test values of the accuracy of the classifier for k from 1 to 20\n",
    "n_range2 = range(1, 10001)\n",
    "\n",
    "# in each run:\n",
    "for n in n_range2:\n",
    "    # do the split\n",
    "    X_train, X_test, y_train, y_test = train_test_split(X, y)\n",
    "    # make empty list to contain temporary accuracy results of the run\n",
    "    scores2 = []\n",
    "    \n",
    "    # make and train a classifier\n",
    "    clf = DecisionTreeClassifier().fit(X_train, y_train)\n",
    "    # calculate scores and append to the temporary list\n",
    "    scores2.append(clf.score(X_test, y_test))\n",
    "\n",
    "    # from temporary list, get best accuracy\n",
    "    b_acc2 = max(scores2)\n",
    "\n",
    "    # add the result to the data frame \"best_accuracy\" containing all of the results after the loop\n",
    "    data2 = [[b_acc2]]\n",
    "    append_this2 = pd.DataFrame(data2, columns=[\"best_accuracy\"])\n",
    "    # first loop: initiate \"best_accuracy\" to contain complete data. first case becomes first row of complete data frame\n",
    "    if n == 1:\n",
    "        best_accuracy2 = append_this2\n",
    "        # from second loop on: each case becomes a new row of the complete data frame\n",
    "    else:\n",
    "        best_accuracy2 = pd.concat([best_accuracy2, append_this2])\n",
    "\n",
    "print(\"maximum accuracy is\", best_accuracy2.max())\n",
    "print(\"average accuracy is\", best_accuracy2.mean())"
   ]
  },
  {
   "cell_type": "code",
   "execution_count": null,
   "metadata": {},
   "outputs": [],
   "source": [
    "# USE THE TRAINED CLASSIFIER TO CLASSIFY NEW PREVIOUSLY UNSEEN OBJECTS (optional)"
   ]
  }
 ],
 "metadata": {
  "kernelspec": {
   "display_name": "Python 3.9.7 ('base')",
   "language": "python",
   "name": "python3"
  },
  "language_info": {
   "codemirror_mode": {
    "name": "ipython",
    "version": 3
   },
   "file_extension": ".py",
   "mimetype": "text/x-python",
   "name": "python",
   "nbconvert_exporter": "python",
   "pygments_lexer": "ipython3",
   "version": "3.9.7"
  },
  "orig_nbformat": 4,
  "vscode": {
   "interpreter": {
    "hash": "ad2bdc8ecc057115af97d19610ffacc2b4e99fae6737bb82f5d7fb13d2f2c186"
   }
  }
 },
 "nbformat": 4,
 "nbformat_minor": 2
}
